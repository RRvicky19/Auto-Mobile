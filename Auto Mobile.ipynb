{
 "cells": [
  {
   "cell_type": "code",
   "execution_count": 2,
   "id": "af07d589",
   "metadata": {},
   "outputs": [],
   "source": [
    "import pandas as pd\n",
    "import matplotlib.pyplot as plt\n",
    "import seaborn as sns\n",
    "import statsmodels.api as sm\n",
    "from scipy import stats"
   ]
  },
  {
   "cell_type": "code",
   "execution_count": 3,
   "id": "65c084e2",
   "metadata": {},
   "outputs": [],
   "source": [
    "data=pd.read_csv(\"Downloads/imports-85.data\",names=[\"symboling\",\"normalisedlosses\",\"make\",\"fueltype\",\"aspiration\",\"numofdoors\",\"bodystyle\",\"drivewheels\",\"enginelocation\",\"wheelbase\",\"length\",\"width\",\"height\",\"curbweight\",\"enginetype\",\"numofcylinders\",\"enginesize\",\"fuelsystem\",\"bore\",\"stroke\",\"cratio\",\"bhp\",\"rpm\",\"citympg\",\"highwaympg\",\"price\"],na_values=\"?\",)"
   ]
  },
  {
   "cell_type": "code",
   "execution_count": 4,
   "id": "fb8ba495",
   "metadata": {},
   "outputs": [
    {
     "data": {
      "text/html": [
       "<div>\n",
       "<style scoped>\n",
       "    .dataframe tbody tr th:only-of-type {\n",
       "        vertical-align: middle;\n",
       "    }\n",
       "\n",
       "    .dataframe tbody tr th {\n",
       "        vertical-align: top;\n",
       "    }\n",
       "\n",
       "    .dataframe thead th {\n",
       "        text-align: right;\n",
       "    }\n",
       "</style>\n",
       "<table border=\"1\" class=\"dataframe\">\n",
       "  <thead>\n",
       "    <tr style=\"text-align: right;\">\n",
       "      <th></th>\n",
       "      <th>symboling</th>\n",
       "      <th>normalisedlosses</th>\n",
       "      <th>make</th>\n",
       "      <th>fueltype</th>\n",
       "      <th>aspiration</th>\n",
       "      <th>numofdoors</th>\n",
       "      <th>bodystyle</th>\n",
       "      <th>drivewheels</th>\n",
       "      <th>enginelocation</th>\n",
       "      <th>wheelbase</th>\n",
       "      <th>...</th>\n",
       "      <th>enginesize</th>\n",
       "      <th>fuelsystem</th>\n",
       "      <th>bore</th>\n",
       "      <th>stroke</th>\n",
       "      <th>cratio</th>\n",
       "      <th>bhp</th>\n",
       "      <th>rpm</th>\n",
       "      <th>citympg</th>\n",
       "      <th>highwaympg</th>\n",
       "      <th>price</th>\n",
       "    </tr>\n",
       "  </thead>\n",
       "  <tbody>\n",
       "    <tr>\n",
       "      <th>0</th>\n",
       "      <td>3</td>\n",
       "      <td>NaN</td>\n",
       "      <td>alfa-romero</td>\n",
       "      <td>gas</td>\n",
       "      <td>std</td>\n",
       "      <td>two</td>\n",
       "      <td>convertible</td>\n",
       "      <td>rwd</td>\n",
       "      <td>front</td>\n",
       "      <td>88.6</td>\n",
       "      <td>...</td>\n",
       "      <td>130</td>\n",
       "      <td>mpfi</td>\n",
       "      <td>3.47</td>\n",
       "      <td>2.68</td>\n",
       "      <td>9.0</td>\n",
       "      <td>111.0</td>\n",
       "      <td>5000.0</td>\n",
       "      <td>21</td>\n",
       "      <td>27</td>\n",
       "      <td>13495.0</td>\n",
       "    </tr>\n",
       "    <tr>\n",
       "      <th>1</th>\n",
       "      <td>3</td>\n",
       "      <td>NaN</td>\n",
       "      <td>alfa-romero</td>\n",
       "      <td>gas</td>\n",
       "      <td>std</td>\n",
       "      <td>two</td>\n",
       "      <td>convertible</td>\n",
       "      <td>rwd</td>\n",
       "      <td>front</td>\n",
       "      <td>88.6</td>\n",
       "      <td>...</td>\n",
       "      <td>130</td>\n",
       "      <td>mpfi</td>\n",
       "      <td>3.47</td>\n",
       "      <td>2.68</td>\n",
       "      <td>9.0</td>\n",
       "      <td>111.0</td>\n",
       "      <td>5000.0</td>\n",
       "      <td>21</td>\n",
       "      <td>27</td>\n",
       "      <td>16500.0</td>\n",
       "    </tr>\n",
       "    <tr>\n",
       "      <th>2</th>\n",
       "      <td>1</td>\n",
       "      <td>NaN</td>\n",
       "      <td>alfa-romero</td>\n",
       "      <td>gas</td>\n",
       "      <td>std</td>\n",
       "      <td>two</td>\n",
       "      <td>hatchback</td>\n",
       "      <td>rwd</td>\n",
       "      <td>front</td>\n",
       "      <td>94.5</td>\n",
       "      <td>...</td>\n",
       "      <td>152</td>\n",
       "      <td>mpfi</td>\n",
       "      <td>2.68</td>\n",
       "      <td>3.47</td>\n",
       "      <td>9.0</td>\n",
       "      <td>154.0</td>\n",
       "      <td>5000.0</td>\n",
       "      <td>19</td>\n",
       "      <td>26</td>\n",
       "      <td>16500.0</td>\n",
       "    </tr>\n",
       "    <tr>\n",
       "      <th>3</th>\n",
       "      <td>2</td>\n",
       "      <td>164.0</td>\n",
       "      <td>audi</td>\n",
       "      <td>gas</td>\n",
       "      <td>std</td>\n",
       "      <td>four</td>\n",
       "      <td>sedan</td>\n",
       "      <td>fwd</td>\n",
       "      <td>front</td>\n",
       "      <td>99.8</td>\n",
       "      <td>...</td>\n",
       "      <td>109</td>\n",
       "      <td>mpfi</td>\n",
       "      <td>3.19</td>\n",
       "      <td>3.40</td>\n",
       "      <td>10.0</td>\n",
       "      <td>102.0</td>\n",
       "      <td>5500.0</td>\n",
       "      <td>24</td>\n",
       "      <td>30</td>\n",
       "      <td>13950.0</td>\n",
       "    </tr>\n",
       "    <tr>\n",
       "      <th>4</th>\n",
       "      <td>2</td>\n",
       "      <td>164.0</td>\n",
       "      <td>audi</td>\n",
       "      <td>gas</td>\n",
       "      <td>std</td>\n",
       "      <td>four</td>\n",
       "      <td>sedan</td>\n",
       "      <td>4wd</td>\n",
       "      <td>front</td>\n",
       "      <td>99.4</td>\n",
       "      <td>...</td>\n",
       "      <td>136</td>\n",
       "      <td>mpfi</td>\n",
       "      <td>3.19</td>\n",
       "      <td>3.40</td>\n",
       "      <td>8.0</td>\n",
       "      <td>115.0</td>\n",
       "      <td>5500.0</td>\n",
       "      <td>18</td>\n",
       "      <td>22</td>\n",
       "      <td>17450.0</td>\n",
       "    </tr>\n",
       "  </tbody>\n",
       "</table>\n",
       "<p>5 rows × 26 columns</p>\n",
       "</div>"
      ],
      "text/plain": [
       "   symboling  normalisedlosses         make fueltype aspiration numofdoors  \\\n",
       "0          3               NaN  alfa-romero      gas        std        two   \n",
       "1          3               NaN  alfa-romero      gas        std        two   \n",
       "2          1               NaN  alfa-romero      gas        std        two   \n",
       "3          2             164.0         audi      gas        std       four   \n",
       "4          2             164.0         audi      gas        std       four   \n",
       "\n",
       "     bodystyle drivewheels enginelocation  wheelbase  ...  enginesize  \\\n",
       "0  convertible         rwd          front       88.6  ...         130   \n",
       "1  convertible         rwd          front       88.6  ...         130   \n",
       "2    hatchback         rwd          front       94.5  ...         152   \n",
       "3        sedan         fwd          front       99.8  ...         109   \n",
       "4        sedan         4wd          front       99.4  ...         136   \n",
       "\n",
       "   fuelsystem  bore  stroke cratio    bhp     rpm citympg  highwaympg    price  \n",
       "0        mpfi  3.47    2.68    9.0  111.0  5000.0      21          27  13495.0  \n",
       "1        mpfi  3.47    2.68    9.0  111.0  5000.0      21          27  16500.0  \n",
       "2        mpfi  2.68    3.47    9.0  154.0  5000.0      19          26  16500.0  \n",
       "3        mpfi  3.19    3.40   10.0  102.0  5500.0      24          30  13950.0  \n",
       "4        mpfi  3.19    3.40    8.0  115.0  5500.0      18          22  17450.0  \n",
       "\n",
       "[5 rows x 26 columns]"
      ]
     },
     "execution_count": 4,
     "metadata": {},
     "output_type": "execute_result"
    }
   ],
   "source": [
    "data.head()"
   ]
  },
  {
   "cell_type": "code",
   "execution_count": 5,
   "id": "2b476f0b",
   "metadata": {},
   "outputs": [
    {
     "data": {
      "text/html": [
       "<div>\n",
       "<style scoped>\n",
       "    .dataframe tbody tr th:only-of-type {\n",
       "        vertical-align: middle;\n",
       "    }\n",
       "\n",
       "    .dataframe tbody tr th {\n",
       "        vertical-align: top;\n",
       "    }\n",
       "\n",
       "    .dataframe thead th {\n",
       "        text-align: right;\n",
       "    }\n",
       "</style>\n",
       "<table border=\"1\" class=\"dataframe\">\n",
       "  <thead>\n",
       "    <tr style=\"text-align: right;\">\n",
       "      <th></th>\n",
       "      <th>symboling</th>\n",
       "      <th>normalisedlosses</th>\n",
       "      <th>fueltype</th>\n",
       "      <th>aspiration</th>\n",
       "      <th>numofdoors</th>\n",
       "      <th>bodystyle</th>\n",
       "      <th>drivewheels</th>\n",
       "      <th>enginelocation</th>\n",
       "      <th>wheelbase</th>\n",
       "      <th>length</th>\n",
       "      <th>...</th>\n",
       "      <th>enginesize</th>\n",
       "      <th>fuelsystem</th>\n",
       "      <th>bore</th>\n",
       "      <th>stroke</th>\n",
       "      <th>cratio</th>\n",
       "      <th>bhp</th>\n",
       "      <th>rpm</th>\n",
       "      <th>citympg</th>\n",
       "      <th>highwaympg</th>\n",
       "      <th>price</th>\n",
       "    </tr>\n",
       "  </thead>\n",
       "  <tbody>\n",
       "    <tr>\n",
       "      <th>0</th>\n",
       "      <td>3</td>\n",
       "      <td>NaN</td>\n",
       "      <td>gas</td>\n",
       "      <td>std</td>\n",
       "      <td>two</td>\n",
       "      <td>convertible</td>\n",
       "      <td>rwd</td>\n",
       "      <td>front</td>\n",
       "      <td>88.6</td>\n",
       "      <td>168.8</td>\n",
       "      <td>...</td>\n",
       "      <td>130</td>\n",
       "      <td>mpfi</td>\n",
       "      <td>3.47</td>\n",
       "      <td>2.68</td>\n",
       "      <td>9.0</td>\n",
       "      <td>111.0</td>\n",
       "      <td>5000.0</td>\n",
       "      <td>21</td>\n",
       "      <td>27</td>\n",
       "      <td>13495.0</td>\n",
       "    </tr>\n",
       "    <tr>\n",
       "      <th>1</th>\n",
       "      <td>3</td>\n",
       "      <td>NaN</td>\n",
       "      <td>gas</td>\n",
       "      <td>std</td>\n",
       "      <td>two</td>\n",
       "      <td>convertible</td>\n",
       "      <td>rwd</td>\n",
       "      <td>front</td>\n",
       "      <td>88.6</td>\n",
       "      <td>168.8</td>\n",
       "      <td>...</td>\n",
       "      <td>130</td>\n",
       "      <td>mpfi</td>\n",
       "      <td>3.47</td>\n",
       "      <td>2.68</td>\n",
       "      <td>9.0</td>\n",
       "      <td>111.0</td>\n",
       "      <td>5000.0</td>\n",
       "      <td>21</td>\n",
       "      <td>27</td>\n",
       "      <td>16500.0</td>\n",
       "    </tr>\n",
       "    <tr>\n",
       "      <th>2</th>\n",
       "      <td>1</td>\n",
       "      <td>NaN</td>\n",
       "      <td>gas</td>\n",
       "      <td>std</td>\n",
       "      <td>two</td>\n",
       "      <td>hatchback</td>\n",
       "      <td>rwd</td>\n",
       "      <td>front</td>\n",
       "      <td>94.5</td>\n",
       "      <td>171.2</td>\n",
       "      <td>...</td>\n",
       "      <td>152</td>\n",
       "      <td>mpfi</td>\n",
       "      <td>2.68</td>\n",
       "      <td>3.47</td>\n",
       "      <td>9.0</td>\n",
       "      <td>154.0</td>\n",
       "      <td>5000.0</td>\n",
       "      <td>19</td>\n",
       "      <td>26</td>\n",
       "      <td>16500.0</td>\n",
       "    </tr>\n",
       "    <tr>\n",
       "      <th>3</th>\n",
       "      <td>2</td>\n",
       "      <td>164.0</td>\n",
       "      <td>gas</td>\n",
       "      <td>std</td>\n",
       "      <td>four</td>\n",
       "      <td>sedan</td>\n",
       "      <td>fwd</td>\n",
       "      <td>front</td>\n",
       "      <td>99.8</td>\n",
       "      <td>176.6</td>\n",
       "      <td>...</td>\n",
       "      <td>109</td>\n",
       "      <td>mpfi</td>\n",
       "      <td>3.19</td>\n",
       "      <td>3.40</td>\n",
       "      <td>10.0</td>\n",
       "      <td>102.0</td>\n",
       "      <td>5500.0</td>\n",
       "      <td>24</td>\n",
       "      <td>30</td>\n",
       "      <td>13950.0</td>\n",
       "    </tr>\n",
       "    <tr>\n",
       "      <th>4</th>\n",
       "      <td>2</td>\n",
       "      <td>164.0</td>\n",
       "      <td>gas</td>\n",
       "      <td>std</td>\n",
       "      <td>four</td>\n",
       "      <td>sedan</td>\n",
       "      <td>4wd</td>\n",
       "      <td>front</td>\n",
       "      <td>99.4</td>\n",
       "      <td>176.6</td>\n",
       "      <td>...</td>\n",
       "      <td>136</td>\n",
       "      <td>mpfi</td>\n",
       "      <td>3.19</td>\n",
       "      <td>3.40</td>\n",
       "      <td>8.0</td>\n",
       "      <td>115.0</td>\n",
       "      <td>5500.0</td>\n",
       "      <td>18</td>\n",
       "      <td>22</td>\n",
       "      <td>17450.0</td>\n",
       "    </tr>\n",
       "    <tr>\n",
       "      <th>...</th>\n",
       "      <td>...</td>\n",
       "      <td>...</td>\n",
       "      <td>...</td>\n",
       "      <td>...</td>\n",
       "      <td>...</td>\n",
       "      <td>...</td>\n",
       "      <td>...</td>\n",
       "      <td>...</td>\n",
       "      <td>...</td>\n",
       "      <td>...</td>\n",
       "      <td>...</td>\n",
       "      <td>...</td>\n",
       "      <td>...</td>\n",
       "      <td>...</td>\n",
       "      <td>...</td>\n",
       "      <td>...</td>\n",
       "      <td>...</td>\n",
       "      <td>...</td>\n",
       "      <td>...</td>\n",
       "      <td>...</td>\n",
       "      <td>...</td>\n",
       "    </tr>\n",
       "    <tr>\n",
       "      <th>200</th>\n",
       "      <td>-1</td>\n",
       "      <td>95.0</td>\n",
       "      <td>gas</td>\n",
       "      <td>std</td>\n",
       "      <td>four</td>\n",
       "      <td>sedan</td>\n",
       "      <td>rwd</td>\n",
       "      <td>front</td>\n",
       "      <td>109.1</td>\n",
       "      <td>188.8</td>\n",
       "      <td>...</td>\n",
       "      <td>141</td>\n",
       "      <td>mpfi</td>\n",
       "      <td>3.78</td>\n",
       "      <td>3.15</td>\n",
       "      <td>9.5</td>\n",
       "      <td>114.0</td>\n",
       "      <td>5400.0</td>\n",
       "      <td>23</td>\n",
       "      <td>28</td>\n",
       "      <td>16845.0</td>\n",
       "    </tr>\n",
       "    <tr>\n",
       "      <th>201</th>\n",
       "      <td>-1</td>\n",
       "      <td>95.0</td>\n",
       "      <td>gas</td>\n",
       "      <td>turbo</td>\n",
       "      <td>four</td>\n",
       "      <td>sedan</td>\n",
       "      <td>rwd</td>\n",
       "      <td>front</td>\n",
       "      <td>109.1</td>\n",
       "      <td>188.8</td>\n",
       "      <td>...</td>\n",
       "      <td>141</td>\n",
       "      <td>mpfi</td>\n",
       "      <td>3.78</td>\n",
       "      <td>3.15</td>\n",
       "      <td>8.7</td>\n",
       "      <td>160.0</td>\n",
       "      <td>5300.0</td>\n",
       "      <td>19</td>\n",
       "      <td>25</td>\n",
       "      <td>19045.0</td>\n",
       "    </tr>\n",
       "    <tr>\n",
       "      <th>202</th>\n",
       "      <td>-1</td>\n",
       "      <td>95.0</td>\n",
       "      <td>gas</td>\n",
       "      <td>std</td>\n",
       "      <td>four</td>\n",
       "      <td>sedan</td>\n",
       "      <td>rwd</td>\n",
       "      <td>front</td>\n",
       "      <td>109.1</td>\n",
       "      <td>188.8</td>\n",
       "      <td>...</td>\n",
       "      <td>173</td>\n",
       "      <td>mpfi</td>\n",
       "      <td>3.58</td>\n",
       "      <td>2.87</td>\n",
       "      <td>8.8</td>\n",
       "      <td>134.0</td>\n",
       "      <td>5500.0</td>\n",
       "      <td>18</td>\n",
       "      <td>23</td>\n",
       "      <td>21485.0</td>\n",
       "    </tr>\n",
       "    <tr>\n",
       "      <th>203</th>\n",
       "      <td>-1</td>\n",
       "      <td>95.0</td>\n",
       "      <td>diesel</td>\n",
       "      <td>turbo</td>\n",
       "      <td>four</td>\n",
       "      <td>sedan</td>\n",
       "      <td>rwd</td>\n",
       "      <td>front</td>\n",
       "      <td>109.1</td>\n",
       "      <td>188.8</td>\n",
       "      <td>...</td>\n",
       "      <td>145</td>\n",
       "      <td>idi</td>\n",
       "      <td>3.01</td>\n",
       "      <td>3.40</td>\n",
       "      <td>23.0</td>\n",
       "      <td>106.0</td>\n",
       "      <td>4800.0</td>\n",
       "      <td>26</td>\n",
       "      <td>27</td>\n",
       "      <td>22470.0</td>\n",
       "    </tr>\n",
       "    <tr>\n",
       "      <th>204</th>\n",
       "      <td>-1</td>\n",
       "      <td>95.0</td>\n",
       "      <td>gas</td>\n",
       "      <td>turbo</td>\n",
       "      <td>four</td>\n",
       "      <td>sedan</td>\n",
       "      <td>rwd</td>\n",
       "      <td>front</td>\n",
       "      <td>109.1</td>\n",
       "      <td>188.8</td>\n",
       "      <td>...</td>\n",
       "      <td>141</td>\n",
       "      <td>mpfi</td>\n",
       "      <td>3.78</td>\n",
       "      <td>3.15</td>\n",
       "      <td>9.5</td>\n",
       "      <td>114.0</td>\n",
       "      <td>5400.0</td>\n",
       "      <td>19</td>\n",
       "      <td>25</td>\n",
       "      <td>22625.0</td>\n",
       "    </tr>\n",
       "  </tbody>\n",
       "</table>\n",
       "<p>205 rows × 25 columns</p>\n",
       "</div>"
      ],
      "text/plain": [
       "     symboling  normalisedlosses fueltype aspiration numofdoors    bodystyle  \\\n",
       "0            3               NaN      gas        std        two  convertible   \n",
       "1            3               NaN      gas        std        two  convertible   \n",
       "2            1               NaN      gas        std        two    hatchback   \n",
       "3            2             164.0      gas        std       four        sedan   \n",
       "4            2             164.0      gas        std       four        sedan   \n",
       "..         ...               ...      ...        ...        ...          ...   \n",
       "200         -1              95.0      gas        std       four        sedan   \n",
       "201         -1              95.0      gas      turbo       four        sedan   \n",
       "202         -1              95.0      gas        std       four        sedan   \n",
       "203         -1              95.0   diesel      turbo       four        sedan   \n",
       "204         -1              95.0      gas      turbo       four        sedan   \n",
       "\n",
       "    drivewheels enginelocation  wheelbase  length  ...  enginesize  \\\n",
       "0           rwd          front       88.6   168.8  ...         130   \n",
       "1           rwd          front       88.6   168.8  ...         130   \n",
       "2           rwd          front       94.5   171.2  ...         152   \n",
       "3           fwd          front       99.8   176.6  ...         109   \n",
       "4           4wd          front       99.4   176.6  ...         136   \n",
       "..          ...            ...        ...     ...  ...         ...   \n",
       "200         rwd          front      109.1   188.8  ...         141   \n",
       "201         rwd          front      109.1   188.8  ...         141   \n",
       "202         rwd          front      109.1   188.8  ...         173   \n",
       "203         rwd          front      109.1   188.8  ...         145   \n",
       "204         rwd          front      109.1   188.8  ...         141   \n",
       "\n",
       "     fuelsystem  bore stroke cratio    bhp     rpm  citympg  highwaympg  \\\n",
       "0          mpfi  3.47   2.68    9.0  111.0  5000.0       21          27   \n",
       "1          mpfi  3.47   2.68    9.0  111.0  5000.0       21          27   \n",
       "2          mpfi  2.68   3.47    9.0  154.0  5000.0       19          26   \n",
       "3          mpfi  3.19   3.40   10.0  102.0  5500.0       24          30   \n",
       "4          mpfi  3.19   3.40    8.0  115.0  5500.0       18          22   \n",
       "..          ...   ...    ...    ...    ...     ...      ...         ...   \n",
       "200        mpfi  3.78   3.15    9.5  114.0  5400.0       23          28   \n",
       "201        mpfi  3.78   3.15    8.7  160.0  5300.0       19          25   \n",
       "202        mpfi  3.58   2.87    8.8  134.0  5500.0       18          23   \n",
       "203         idi  3.01   3.40   23.0  106.0  4800.0       26          27   \n",
       "204        mpfi  3.78   3.15    9.5  114.0  5400.0       19          25   \n",
       "\n",
       "       price  \n",
       "0    13495.0  \n",
       "1    16500.0  \n",
       "2    16500.0  \n",
       "3    13950.0  \n",
       "4    17450.0  \n",
       "..       ...  \n",
       "200  16845.0  \n",
       "201  19045.0  \n",
       "202  21485.0  \n",
       "203  22470.0  \n",
       "204  22625.0  \n",
       "\n",
       "[205 rows x 25 columns]"
      ]
     },
     "execution_count": 5,
     "metadata": {},
     "output_type": "execute_result"
    }
   ],
   "source": [
    "data.drop([\"make\"],axis = 1)"
   ]
  },
  {
   "cell_type": "markdown",
   "id": "873e3190",
   "metadata": {},
   "source": [
    "<h1 style = \"color:red\";> Checking Null values </h1>"
   ]
  },
  {
   "cell_type": "code",
   "execution_count": 6,
   "id": "87c1f8a4",
   "metadata": {},
   "outputs": [
    {
     "data": {
      "text/plain": [
       "41"
      ]
     },
     "execution_count": 6,
     "metadata": {},
     "output_type": "execute_result"
    }
   ],
   "source": [
    "data.normalisedlosses.isnull().sum()"
   ]
  },
  {
   "cell_type": "code",
   "execution_count": 7,
   "id": "d95368fa",
   "metadata": {},
   "outputs": [
    {
     "data": {
      "text/plain": [
       "4"
      ]
     },
     "execution_count": 7,
     "metadata": {},
     "output_type": "execute_result"
    }
   ],
   "source": [
    "data.stroke.isnull().sum()"
   ]
  },
  {
   "cell_type": "code",
   "execution_count": 8,
   "id": "848f931d",
   "metadata": {},
   "outputs": [
    {
     "data": {
      "text/plain": [
       "4"
      ]
     },
     "execution_count": 8,
     "metadata": {},
     "output_type": "execute_result"
    }
   ],
   "source": [
    "data.bore.isnull().sum()"
   ]
  },
  {
   "cell_type": "code",
   "execution_count": 9,
   "id": "d5b2db3c",
   "metadata": {
    "scrolled": true
   },
   "outputs": [
    {
     "data": {
      "text/plain": [
       "2"
      ]
     },
     "execution_count": 9,
     "metadata": {},
     "output_type": "execute_result"
    }
   ],
   "source": [
    "data.numofdoors.isnull().sum()"
   ]
  },
  {
   "cell_type": "code",
   "execution_count": 10,
   "id": "61b3e213",
   "metadata": {
    "scrolled": true
   },
   "outputs": [
    {
     "data": {
      "text/plain": [
       "2"
      ]
     },
     "execution_count": 10,
     "metadata": {},
     "output_type": "execute_result"
    }
   ],
   "source": [
    "data.bhp.isnull().sum()"
   ]
  },
  {
   "cell_type": "code",
   "execution_count": 11,
   "id": "ec3c8f0f",
   "metadata": {
    "scrolled": true
   },
   "outputs": [
    {
     "data": {
      "text/plain": [
       "2"
      ]
     },
     "execution_count": 11,
     "metadata": {},
     "output_type": "execute_result"
    }
   ],
   "source": [
    "data.rpm.isnull().sum()"
   ]
  },
  {
   "cell_type": "code",
   "execution_count": 12,
   "id": "4123f0f0",
   "metadata": {},
   "outputs": [
    {
     "data": {
      "text/plain": [
       "4"
      ]
     },
     "execution_count": 12,
     "metadata": {},
     "output_type": "execute_result"
    }
   ],
   "source": [
    "data.price.isnull().sum()"
   ]
  },
  {
   "cell_type": "code",
   "execution_count": 13,
   "id": "1ebf4ea2",
   "metadata": {},
   "outputs": [
    {
     "data": {
      "text/plain": [
       "2"
      ]
     },
     "execution_count": 13,
     "metadata": {},
     "output_type": "execute_result"
    }
   ],
   "source": [
    "data.numofdoors.isnull().sum()"
   ]
  },
  {
   "cell_type": "markdown",
   "id": "b91556ae",
   "metadata": {},
   "source": [
    "<h1 style=\"color:green\">Identifying outlayers using boxplot</h1>"
   ]
  },
  {
   "cell_type": "code",
   "execution_count": 14,
   "id": "fd17dbee",
   "metadata": {},
   "outputs": [
    {
     "data": {
      "text/plain": [
       "{'whiskers': [<matplotlib.lines.Line2D at 0x24173faabe0>,\n",
       "  <matplotlib.lines.Line2D at 0x24173faaf70>],\n",
       " 'caps': [<matplotlib.lines.Line2D at 0x24173fb7340>,\n",
       "  <matplotlib.lines.Line2D at 0x24173fb76d0>],\n",
       " 'boxes': [<matplotlib.lines.Line2D at 0x24173faa850>],\n",
       " 'medians': [<matplotlib.lines.Line2D at 0x24173fb7a60>],\n",
       " 'fliers': [<matplotlib.lines.Line2D at 0x24173fb7df0>],\n",
       " 'means': []}"
      ]
     },
     "execution_count": 14,
     "metadata": {},
     "output_type": "execute_result"
    },
    {
     "data": {
      "image/png": "[encoded data removed]",
      "text/plain": [
       "<Figure size 936x720 with 6 Axes>"
      ]
     },
     "metadata": {
      "needs_background": "light"
     },
     "output_type": "display_data"
    }
   ],
   "source": [
    "plt.figure(figsize=[13,10])\n",
    "plt.subplot(2,3,1)\n",
    "plt.boxplot(data.normalisedlosses.dropna())\n",
    "plt.subplot(2,3,2)\n",
    "plt.boxplot(data.stroke.dropna())\n",
    "plt.subplot(2,3,3)\n",
    "plt.boxplot(data.bore.dropna())\n",
    "plt.subplot(2,3,4)\n",
    "plt.boxplot(data.bhp.dropna())\n",
    "plt.subplot(2,3,5)\n",
    "plt.boxplot(data.price.dropna())\n",
    "plt.subplot(2,3,6)\n",
    "plt.boxplot(data.rpm.dropna())\n"
   ]
  },
  {
   "cell_type": "markdown",
   "id": "7c12157a",
   "metadata": {},
   "source": [
    "<h1 style = \"color:blue\";> Filling Null values </h1>"
   ]
  },
  {
   "cell_type": "code",
   "execution_count": 15,
   "id": "2c70a204",
   "metadata": {},
   "outputs": [],
   "source": [
    "data.normalisedlosses.fillna(data.normalisedlosses.median(),inplace=True)"
   ]
  },
  {
   "cell_type": "code",
   "execution_count": 16,
   "id": "eab28fb5",
   "metadata": {},
   "outputs": [],
   "source": [
    "data.stroke.fillna(data.stroke.median(),inplace=True)"
   ]
  },
  {
   "cell_type": "code",
   "execution_count": 17,
   "id": "b3d596d1",
   "metadata": {},
   "outputs": [],
   "source": [
    "data.bore.fillna(data.bore.mean(),inplace=True)"
   ]
  },
  {
   "cell_type": "code",
   "execution_count": 18,
   "id": "1db43071",
   "metadata": {},
   "outputs": [],
   "source": [
    "data.bhp.fillna(data.bhp.median(),inplace=True)"
   ]
  },
  {
   "cell_type": "code",
   "execution_count": 19,
   "id": "a56bcd60",
   "metadata": {},
   "outputs": [],
   "source": [
    "data.price.fillna(data.price.median(),inplace=True)"
   ]
  },
  {
   "cell_type": "code",
   "execution_count": 20,
   "id": "df1c4416",
   "metadata": {},
   "outputs": [],
   "source": [
    "data.rpm.fillna(data.rpm.median(),inplace=True)"
   ]
  },
  {
   "cell_type": "code",
   "execution_count": 21,
   "id": "a990db82",
   "metadata": {},
   "outputs": [],
   "source": [
    "data.numofdoors.fillna(data.numofdoors.mode(),inplace=True)"
   ]
  },
  {
   "cell_type": "markdown",
   "id": "24836a7e",
   "metadata": {},
   "source": [
    "<h2 style = \"color:red\";>Pearson Correlation Test for all Continous data</h2>"
   ]
  },
  {
   "cell_type": "code",
   "execution_count": 22,
   "id": "ad5a4f43",
   "metadata": {},
   "outputs": [
    {
     "data": {
      "text/plain": [
       "(0.09548893712250724, 0.17321440617487469)"
      ]
     },
     "execution_count": 22,
     "metadata": {},
     "output_type": "execute_result"
    }
   ],
   "source": [
    "stats.pearsonr(data.normalisedlosses,data.price)"
   ]
  },
  {
   "cell_type": "markdown",
   "id": "92f5cfc6",
   "metadata": {},
   "source": [
    "S           M            WEEK             M                   S\n",
    "----------------------------------------------------------------\n",
    "-1    -09     -07          0         0.7    0.9             1"
   ]
  },
  {
   "cell_type": "code",
   "execution_count": 23,
   "id": "d9b3c09d",
   "metadata": {},
   "outputs": [
    {
     "data": {
      "text/plain": [
       "(0.584846838972225, 3.338017082369928e-20)"
      ]
     },
     "execution_count": 23,
     "metadata": {},
     "output_type": "execute_result"
    }
   ],
   "source": [
    "stats.pearsonr(data.wheelbase,data.price)"
   ]
  },
  {
   "cell_type": "markdown",
   "id": "d1d42291",
   "metadata": {},
   "source": [
    "S           M            WEEK             M                   S\n",
    "----------------------------------------------------------------\n",
    "-1    -09     -07          0         0.7    0.9             1 "
   ]
  },
  {
   "cell_type": "code",
   "execution_count": 24,
   "id": "a2efe446",
   "metadata": {},
   "outputs": [
    {
     "data": {
      "text/plain": [
       "(0.8603427324326134, 2.511193868051146e-61)"
      ]
     },
     "execution_count": 24,
     "metadata": {},
     "output_type": "execute_result"
    }
   ],
   "source": [
    "stats.pearsonr(data.enginesize,data.price)"
   ]
  },
  {
   "cell_type": "markdown",
   "id": "7ba9b752",
   "metadata": {},
   "source": [
    "S           M            WEEK             M                   S\n",
    "----------------------------------------------------------------\n",
    "-1    -09     -07          0         0.7    0.9             1"
   ]
  },
  {
   "cell_type": "code",
   "execution_count": 25,
   "id": "d7b90082",
   "metadata": {},
   "outputs": [
    {
     "data": {
      "text/plain": [
       "(0.5328649013633638, 1.9629473253558344e-16)"
      ]
     },
     "execution_count": 25,
     "metadata": {},
     "output_type": "execute_result"
    }
   ],
   "source": [
    "stats.pearsonr(data.bore,data.price)"
   ]
  },
  {
   "cell_type": "markdown",
   "id": "a3e78281",
   "metadata": {},
   "source": [
    "S           M            WEEK             M                   S\n",
    "----------------------------------------------------------------\n",
    "-1    -09     -07          0         0.7    0.9             1"
   ]
  },
  {
   "cell_type": "code",
   "execution_count": 26,
   "id": "a9b4eab9",
   "metadata": {},
   "outputs": [
    {
     "data": {
      "text/plain": [
       "(0.08362710782152097, 0.23321191098305122)"
      ]
     },
     "execution_count": 26,
     "metadata": {},
     "output_type": "execute_result"
    }
   ],
   "source": [
    "stats.pearsonr(data.stroke,data.price)"
   ]
  },
  {
   "cell_type": "markdown",
   "id": "33b1237c",
   "metadata": {},
   "source": [
    "S           M            WEEK             M                   S\n",
    "----------------------------------------------------------------\n",
    "-1    -09     -07          0         0.7    0.9             1"
   ]
  },
  {
   "cell_type": "code",
   "execution_count": 27,
   "id": "df2337ff",
   "metadata": {},
   "outputs": [
    {
     "data": {
      "text/plain": [
       "(0.07289043869078718, 0.2989754575667938)"
      ]
     },
     "execution_count": 27,
     "metadata": {},
     "output_type": "execute_result"
    }
   ],
   "source": [
    "stats.pearsonr(data.cratio,data.price)"
   ]
  },
  {
   "cell_type": "markdown",
   "id": "e69b86f1",
   "metadata": {},
   "source": [
    "S           M            WEEK             M                   S\n",
    "----------------------------------------------------------------\n",
    "-1    -09     -07          0         0.7    0.9             1"
   ]
  },
  {
   "cell_type": "code",
   "execution_count": 28,
   "id": "33ef4b21",
   "metadata": {},
   "outputs": [
    {
     "data": {
      "text/plain": [
       "(0.7499191229023526, 2.7701494645427533e-38)"
      ]
     },
     "execution_count": 28,
     "metadata": {},
     "output_type": "execute_result"
    }
   ],
   "source": [
    "stats.pearsonr(data.bhp,data.price)"
   ]
  },
  {
   "cell_type": "markdown",
   "id": "f2ed8b35",
   "metadata": {},
   "source": [
    "S           M            WEEK             M                   S\n",
    "----------------------------------------------------------------\n",
    "-1    -09     -07          0         0.7    0.9             1"
   ]
  },
  {
   "cell_type": "code",
   "execution_count": 29,
   "id": "f2272b99",
   "metadata": {},
   "outputs": [
    {
     "data": {
      "text/plain": [
       "(-0.107282914606469, 0.12574783680166546)"
      ]
     },
     "execution_count": 29,
     "metadata": {},
     "output_type": "execute_result"
    }
   ],
   "source": [
    "stats.pearsonr(data.rpm,data.price)"
   ]
  },
  {
   "cell_type": "markdown",
   "id": "095765d2",
   "metadata": {},
   "source": [
    "S           M            WEEK             M                   S\n",
    "----------------------------------------------------------------\n",
    "-1    -09     -07          0         0.7    0.9             1"
   ]
  },
  {
   "cell_type": "code",
   "execution_count": 30,
   "id": "36becc71",
   "metadata": {},
   "outputs": [
    {
     "data": {
      "text/plain": [
       "(-0.6688215192284404, 6.034974884198224e-28)"
      ]
     },
     "execution_count": 30,
     "metadata": {},
     "output_type": "execute_result"
    }
   ],
   "source": [
    "stats.pearsonr(data.citympg,data.price)"
   ]
  },
  {
   "cell_type": "markdown",
   "id": "587fcd74",
   "metadata": {},
   "source": [
    "S           M            WEEK             M                   S\n",
    "----------------------------------------------------------------\n",
    "-1    -09     -07          0         0.7    0.9             1"
   ]
  },
  {
   "cell_type": "code",
   "execution_count": 31,
   "id": "f5c34c2c",
   "metadata": {},
   "outputs": [
    {
     "data": {
      "text/plain": [
       "(-0.6930373012364786, 1.1310420947833799e-30)"
      ]
     },
     "execution_count": 31,
     "metadata": {},
     "output_type": "execute_result"
    }
   ],
   "source": [
    "stats.pearsonr(data.highwaympg,data.price)"
   ]
  },
  {
   "cell_type": "markdown",
   "id": "6e907131",
   "metadata": {},
   "source": [
    "S           M            WEEK             M                   S\n",
    "----------------------------------------------------------------\n",
    "-1    -09     -07          0         0.7    0.9             1"
   ]
  },
  {
   "cell_type": "markdown",
   "id": "01f76e5a",
   "metadata": {},
   "source": [
    "<h2 style = \"color:green\";>Linear Regression for Engine size and price</h2>"
   ]
  },
  {
   "cell_type": "code",
   "execution_count": 32,
   "id": "e72e3558",
   "metadata": {},
   "outputs": [],
   "source": [
    "y=data.price\n",
    "x=data.enginesize"
   ]
  },
  {
   "cell_type": "code",
   "execution_count": 33,
   "id": "97e3d38e",
   "metadata": {},
   "outputs": [],
   "source": [
    "train_y=y.iloc[0:164]\n",
    "train_x=x.iloc[0:164]"
   ]
  },
  {
   "cell_type": "code",
   "execution_count": 34,
   "id": "2a77f006",
   "metadata": {},
   "outputs": [],
   "source": [
    "test_y=y.iloc[164:]\n",
    "test_x=x.iloc[164:]"
   ]
  },
  {
   "cell_type": "code",
   "execution_count": 35,
   "id": "fb778892",
   "metadata": {},
   "outputs": [
    {
     "name": "stderr",
     "output_type": "stream",
     "text": [
      "C:\\Users\\VICKY R R\\anaconda3\\lib\\site-packages\\statsmodels\\tsa\\tsatools.py:142: FutureWarning: In a future version of pandas all arguments of concat except for the argument 'objs' will be keyword-only\n",
      "  x = pd.concat(x[::order], 1)\n"
     ]
    }
   ],
   "source": [
    "train_x=sm.add_constant(train_x)\n",
    "test_x=sm.add_constant(test_x)"
   ]
  },
  {
   "cell_type": "code",
   "execution_count": 36,
   "id": "fdd0965f",
   "metadata": {},
   "outputs": [],
   "source": [
    "model = sm.OLS(train_y,train_x).fit()\n",
    "model1 = sm.OLS(test_y,test_x).fit()"
   ]
  },
  {
   "cell_type": "code",
   "execution_count": 37,
   "id": "ad3d3608",
   "metadata": {},
   "outputs": [
    {
     "name": "stdout",
     "output_type": "stream",
     "text": [
      "0      13805.523965\n",
      "1      13805.523965\n",
      "2      17457.300662\n",
      "3      10319.737117\n",
      "4      14801.463064\n",
      "           ...     \n",
      "159    10485.726967\n",
      "160     8493.848769\n",
      "161     8493.848769\n",
      "162     8493.848769\n",
      "163     8493.848769\n",
      "Length: 164, dtype: float64\n"
     ]
    }
   ],
   "source": [
    "predict_train_x=model.predict(train_x)\n",
    "print(predict_train_x)\n"
   ]
  },
  {
   "cell_type": "code",
   "execution_count": 38,
   "id": "98274e36",
   "metadata": {
    "scrolled": true
   },
   "outputs": [
    {
     "name": "stdout",
     "output_type": "stream",
     "text": [
      "164     9323.428131\n",
      "165     9323.428131\n",
      "166     9323.428131\n",
      "167    14917.476280\n",
      "168    14917.476280\n",
      "169    14917.476280\n",
      "170    14917.476280\n",
      "171    14917.476280\n",
      "172    14917.476280\n",
      "173    12120.452206\n",
      "174    10721.940169\n",
      "175    12120.452206\n",
      "176    12120.452206\n",
      "177    12120.452206\n",
      "178    17831.043024\n",
      "179    17831.043024\n",
      "180    17831.043024\n",
      "181    16665.616326\n",
      "182     9206.885462\n",
      "183    10605.397499\n",
      "184     9206.885462\n",
      "185    10605.397499\n",
      "186    10605.397499\n",
      "187     9206.885462\n",
      "188    10605.397499\n",
      "189    10605.397499\n",
      "190    10605.397499\n",
      "191    13752.049582\n",
      "192     9206.885462\n",
      "193    10605.397499\n",
      "194    14334.762931\n",
      "195    14334.762931\n",
      "196    14334.762931\n",
      "197    14334.762931\n",
      "198    13052.793564\n",
      "199    13052.793564\n",
      "200    14334.762931\n",
      "201    14334.762931\n",
      "202    18064.128363\n",
      "203    14800.933610\n",
      "204    14334.762931\n",
      "dtype: float64\n"
     ]
    }
   ],
   "source": [
    "predict_test_x=model1.predict(test_x)\n",
    "print(predict_test_x)"
   ]
  },
  {
   "cell_type": "code",
   "execution_count": 39,
   "id": "1a4142e6",
   "metadata": {},
   "outputs": [
    {
     "data": {
      "text/html": [
       "<table class=\"simpletable\">\n",
       "<caption>OLS Regression Results</caption>\n",
       "<tr>\n",
       "  <th>Dep. Variable:</th>          <td>price</td>      <th>  R-squared:         </th> <td>   0.767</td>\n",
       "</tr>\n",
       "<tr>\n",
       "  <th>Model:</th>                   <td>OLS</td>       <th>  Adj. R-squared:    </th> <td>   0.765</td>\n",
       "</tr>\n",
       "<tr>\n",
       "  <th>Method:</th>             <td>Least Squares</td>  <th>  F-statistic:       </th> <td>   532.7</td>\n",
       "</tr>\n",
       "<tr>\n",
       "  <th>Date:</th>             <td>Mon, 04 Apr 2022</td> <th>  Prob (F-statistic):</th> <td>4.34e-53</td>\n",
       "</tr>\n",
       "<tr>\n",
       "  <th>Time:</th>                 <td>09:43:09</td>     <th>  Log-Likelihood:    </th> <td> -1597.7</td>\n",
       "</tr>\n",
       "<tr>\n",
       "  <th>No. Observations:</th>      <td>   164</td>      <th>  AIC:               </th> <td>   3199.</td>\n",
       "</tr>\n",
       "<tr>\n",
       "  <th>Df Residuals:</th>          <td>   162</td>      <th>  BIC:               </th> <td>   3206.</td>\n",
       "</tr>\n",
       "<tr>\n",
       "  <th>Df Model:</th>              <td>     1</td>      <th>                     </th>     <td> </td>   \n",
       "</tr>\n",
       "<tr>\n",
       "  <th>Covariance Type:</th>      <td>nonrobust</td>    <th>                     </th>     <td> </td>   \n",
       "</tr>\n",
       "</table>\n",
       "<table class=\"simpletable\">\n",
       "<tr>\n",
       "       <td></td>         <th>coef</th>     <th>std err</th>      <th>t</th>      <th>P>|t|</th>  <th>[0.025</th>    <th>0.975]</th>  \n",
       "</tr>\n",
       "<tr>\n",
       "  <th>const</th>      <td>-7773.1565</td> <td>  964.572</td> <td>   -8.059</td> <td> 0.000</td> <td>-9677.912</td> <td>-5868.401</td>\n",
       "</tr>\n",
       "<tr>\n",
       "  <th>enginesize</th> <td>  165.9898</td> <td>    7.192</td> <td>   23.081</td> <td> 0.000</td> <td>  151.788</td> <td>  180.191</td>\n",
       "</tr>\n",
       "</table>\n",
       "<table class=\"simpletable\">\n",
       "<tr>\n",
       "  <th>Omnibus:</th>       <td>18.200</td> <th>  Durbin-Watson:     </th> <td>   1.070</td>\n",
       "</tr>\n",
       "<tr>\n",
       "  <th>Prob(Omnibus):</th> <td> 0.000</td> <th>  Jarque-Bera (JB):  </th> <td>  37.388</td>\n",
       "</tr>\n",
       "<tr>\n",
       "  <th>Skew:</th>          <td> 0.487</td> <th>  Prob(JB):          </th> <td>7.61e-09</td>\n",
       "</tr>\n",
       "<tr>\n",
       "  <th>Kurtosis:</th>      <td> 5.127</td> <th>  Cond. No.          </th> <td>    400.</td>\n",
       "</tr>\n",
       "</table><br/><br/>Notes:<br/>[1] Standard Errors assume that the covariance matrix of the errors is correctly specified."
      ],
      "text/plain": [
       "<class 'statsmodels.iolib.summary.Summary'>\n",
       "\"\"\"\n",
       "                            OLS Regression Results                            \n",
       "==============================================================================\n",
       "Dep. Variable:                  price   R-squared:                       0.767\n",
       "Model:                            OLS   Adj. R-squared:                  0.765\n",
       "Method:                 Least Squares   F-statistic:                     532.7\n",
       "Date:                Mon, 04 Apr 2022   Prob (F-statistic):           4.34e-53\n",
       "Time:                        09:43:09   Log-Likelihood:                -1597.7\n",
       "No. Observations:                 164   AIC:                             3199.\n",
       "Df Residuals:                     162   BIC:                             3206.\n",
       "Df Model:                           1                                         \n",
       "Covariance Type:            nonrobust                                         \n",
       "==============================================================================\n",
       "                 coef    std err          t      P>|t|      [0.025      0.975]\n",
       "------------------------------------------------------------------------------\n",
       "const      -7773.1565    964.572     -8.059      0.000   -9677.912   -5868.401\n",
       "enginesize   165.9898      7.192     23.081      0.000     151.788     180.191\n",
       "==============================================================================\n",
       "Omnibus:                       18.200   Durbin-Watson:                   1.070\n",
       "Prob(Omnibus):                  0.000   Jarque-Bera (JB):               37.388\n",
       "Skew:                           0.487   Prob(JB):                     7.61e-09\n",
       "Kurtosis:                       5.127   Cond. No.                         400.\n",
       "==============================================================================\n",
       "\n",
       "Notes:\n",
       "[1] Standard Errors assume that the covariance matrix of the errors is correctly specified.\n",
       "\"\"\""
      ]
     },
     "execution_count": 39,
     "metadata": {},
     "output_type": "execute_result"
    }
   ],
   "source": [
    "model.summary()"
   ]
  },
  {
   "cell_type": "code",
   "execution_count": 40,
   "id": "a96e7a2d",
   "metadata": {},
   "outputs": [
    {
     "data": {
      "text/plain": [
       "const        -7773.156519\n",
       "enginesize     165.989850\n",
       "dtype: float64"
      ]
     },
     "execution_count": 40,
     "metadata": {},
     "output_type": "execute_result"
    }
   ],
   "source": [
    "model.params"
   ]
  },
  {
   "cell_type": "code",
   "execution_count": 41,
   "id": "b28253b9",
   "metadata": {
    "scrolled": false
   },
   "outputs": [
    {
     "data": {
      "text/plain": [
       "<AxesSubplot:xlabel='enginesize', ylabel='price'>"
      ]
     },
     "execution_count": 41,
     "metadata": {},
     "output_type": "execute_result"
    },
    {
     "data": {
      "image/png": "[encoded data removed]",
      "text/plain": [
       "<Figure size 720x360 with 2 Axes>"
      ]
     },
     "metadata": {
      "needs_background": "light"
     },
     "output_type": "display_data"
    }
   ],
   "source": [
    "plt.figure(figsize=[10,5])\n",
    "plt.subplot(1,2,1)\n",
    "sns.scatterplot(x=train_x.enginesize,y=train_y)\n",
    "sns.scatterplot(x=test_x.enginesize,y=test_y)\n",
    "sns.lineplot(x=train_x.enginesize,y=predict_train_x)\n",
    "plt.subplot(1,2,2)\n",
    "sns.scatterplot(x=train_x.enginesize,y=train_y)\n",
    "sns.scatterplot(x=test_x.enginesize,y=test_y)\n",
    "sns.lineplot(x=test_x.enginesize,y=predict_test_x)"
   ]
  },
  {
   "cell_type": "markdown",
   "id": "e463db20",
   "metadata": {},
   "source": [
    "<h2> Linear Regression for bhp and Price </h2> "
   ]
  },
  {
   "cell_type": "code",
   "execution_count": 42,
   "id": "3c593527",
   "metadata": {},
   "outputs": [],
   "source": [
    "x = data.bhp\n",
    "y = data.price"
   ]
  },
  {
   "cell_type": "code",
   "execution_count": 43,
   "id": "ef4b6269",
   "metadata": {},
   "outputs": [],
   "source": [
    "train_x = x.iloc[0:164]\n",
    "train_y = y.iloc[0:164]"
   ]
  },
  {
   "cell_type": "code",
   "execution_count": 44,
   "id": "562ba254",
   "metadata": {},
   "outputs": [],
   "source": [
    "test_x = x.iloc[164:]\n",
    "test_y = y.iloc[164:]"
   ]
  },
  {
   "cell_type": "code",
   "execution_count": 45,
   "id": "3558b35e",
   "metadata": {},
   "outputs": [
    {
     "name": "stderr",
     "output_type": "stream",
     "text": [
      "C:\\Users\\VICKY R R\\anaconda3\\lib\\site-packages\\statsmodels\\tsa\\tsatools.py:142: FutureWarning: In a future version of pandas all arguments of concat except for the argument 'objs' will be keyword-only\n",
      "  x = pd.concat(x[::order], 1)\n"
     ]
    }
   ],
   "source": [
    "train_x = sm.add_constant(train_x)\n",
    "test_x = sm.add_constant(test_x)"
   ]
  },
  {
   "cell_type": "code",
   "execution_count": 46,
   "id": "da1d2bb7",
   "metadata": {},
   "outputs": [],
   "source": [
    "model = sm.OLS(train_y,train_x).fit()\n",
    "model1 = sm.OLS(test_y,test_x).fit()"
   ]
  },
  {
   "cell_type": "code",
   "execution_count": 47,
   "id": "1b9e4f08",
   "metadata": {
    "scrolled": true
   },
   "outputs": [
    {
     "data": {
      "text/html": [
       "<table class=\"simpletable\">\n",
       "<caption>OLS Regression Results</caption>\n",
       "<tr>\n",
       "  <th>Dep. Variable:</th>          <td>price</td>      <th>  R-squared:         </th> <td>   0.586</td>\n",
       "</tr>\n",
       "<tr>\n",
       "  <th>Model:</th>                   <td>OLS</td>       <th>  Adj. R-squared:    </th> <td>   0.583</td>\n",
       "</tr>\n",
       "<tr>\n",
       "  <th>Method:</th>             <td>Least Squares</td>  <th>  F-statistic:       </th> <td>   229.0</td>\n",
       "</tr>\n",
       "<tr>\n",
       "  <th>Date:</th>             <td>Mon, 04 Apr 2022</td> <th>  Prob (F-statistic):</th> <td>8.20e-33</td>\n",
       "</tr>\n",
       "<tr>\n",
       "  <th>Time:</th>                 <td>09:43:11</td>     <th>  Log-Likelihood:    </th> <td> -1644.8</td>\n",
       "</tr>\n",
       "<tr>\n",
       "  <th>No. Observations:</th>      <td>   164</td>      <th>  AIC:               </th> <td>   3294.</td>\n",
       "</tr>\n",
       "<tr>\n",
       "  <th>Df Residuals:</th>          <td>   162</td>      <th>  BIC:               </th> <td>   3300.</td>\n",
       "</tr>\n",
       "<tr>\n",
       "  <th>Df Model:</th>              <td>     1</td>      <th>                     </th>     <td> </td>   \n",
       "</tr>\n",
       "<tr>\n",
       "  <th>Covariance Type:</th>      <td>nonrobust</td>    <th>                     </th>     <td> </td>   \n",
       "</tr>\n",
       "</table>\n",
       "<table class=\"simpletable\">\n",
       "<tr>\n",
       "    <td></td>       <th>coef</th>     <th>std err</th>      <th>t</th>      <th>P>|t|</th>  <th>[0.025</th>    <th>0.975]</th>  \n",
       "</tr>\n",
       "<tr>\n",
       "  <th>const</th> <td>-3027.4402</td> <td> 1155.785</td> <td>   -2.619</td> <td> 0.010</td> <td>-5309.787</td> <td> -745.093</td>\n",
       "</tr>\n",
       "<tr>\n",
       "  <th>bhp</th>   <td>  157.4015</td> <td>   10.401</td> <td>   15.133</td> <td> 0.000</td> <td>  136.862</td> <td>  177.941</td>\n",
       "</tr>\n",
       "</table>\n",
       "<table class=\"simpletable\">\n",
       "<tr>\n",
       "  <th>Omnibus:</th>       <td>36.388</td> <th>  Durbin-Watson:     </th> <td>   1.050</td>\n",
       "</tr>\n",
       "<tr>\n",
       "  <th>Prob(Omnibus):</th> <td> 0.000</td> <th>  Jarque-Bera (JB):  </th> <td> 400.416</td>\n",
       "</tr>\n",
       "<tr>\n",
       "  <th>Skew:</th>          <td>-0.225</td> <th>  Prob(JB):          </th> <td>1.12e-87</td>\n",
       "</tr>\n",
       "<tr>\n",
       "  <th>Kurtosis:</th>      <td>10.642</td> <th>  Cond. No.          </th> <td>    298.</td>\n",
       "</tr>\n",
       "</table><br/><br/>Notes:<br/>[1] Standard Errors assume that the covariance matrix of the errors is correctly specified."
      ],
      "text/plain": [
       "<class 'statsmodels.iolib.summary.Summary'>\n",
       "\"\"\"\n",
       "                            OLS Regression Results                            \n",
       "==============================================================================\n",
       "Dep. Variable:                  price   R-squared:                       0.586\n",
       "Model:                            OLS   Adj. R-squared:                  0.583\n",
       "Method:                 Least Squares   F-statistic:                     229.0\n",
       "Date:                Mon, 04 Apr 2022   Prob (F-statistic):           8.20e-33\n",
       "Time:                        09:43:11   Log-Likelihood:                -1644.8\n",
       "No. Observations:                 164   AIC:                             3294.\n",
       "Df Residuals:                     162   BIC:                             3300.\n",
       "Df Model:                           1                                         \n",
       "Covariance Type:            nonrobust                                         \n",
       "==============================================================================\n",
       "                 coef    std err          t      P>|t|      [0.025      0.975]\n",
       "------------------------------------------------------------------------------\n",
       "const      -3027.4402   1155.785     -2.619      0.010   -5309.787    -745.093\n",
       "bhp          157.4015     10.401     15.133      0.000     136.862     177.941\n",
       "==============================================================================\n",
       "Omnibus:                       36.388   Durbin-Watson:                   1.050\n",
       "Prob(Omnibus):                  0.000   Jarque-Bera (JB):              400.416\n",
       "Skew:                          -0.225   Prob(JB):                     1.12e-87\n",
       "Kurtosis:                      10.642   Cond. No.                         298.\n",
       "==============================================================================\n",
       "\n",
       "Notes:\n",
       "[1] Standard Errors assume that the covariance matrix of the errors is correctly specified.\n",
       "\"\"\""
      ]
     },
     "execution_count": 47,
     "metadata": {},
     "output_type": "execute_result"
    }
   ],
   "source": [
    "model.summary()"
   ]
  },
  {
   "cell_type": "code",
   "execution_count": 48,
   "id": "ca391db2",
   "metadata": {
    "scrolled": true
   },
   "outputs": [
    {
     "data": {
      "text/plain": [
       "const   -3027.440167\n",
       "bhp       157.401478\n",
       "dtype: float64"
      ]
     },
     "execution_count": 48,
     "metadata": {},
     "output_type": "execute_result"
    }
   ],
   "source": [
    "model.params"
   ]
  },
  {
   "cell_type": "code",
   "execution_count": 49,
   "id": "a7e084eb",
   "metadata": {},
   "outputs": [],
   "source": [
    "predict_train_x = model.predict(train_x)\n",
    "predict_test_x = model1.predict(test_x)"
   ]
  },
  {
   "cell_type": "code",
   "execution_count": 50,
   "id": "50f5782e",
   "metadata": {},
   "outputs": [
    {
     "name": "stdout",
     "output_type": "stream",
     "text": [
      "0      14444.123874\n",
      "1      14444.123874\n",
      "2      21212.387421\n",
      "3      13027.510573\n",
      "4      15073.729785\n",
      "           ...     \n",
      "159     5787.042592\n",
      "160     7990.663282\n",
      "161     7990.663282\n",
      "162     7990.663282\n",
      "163     7990.663282\n",
      "Length: 164, dtype: float64\n"
     ]
    }
   ],
   "source": [
    "print(predict_train_x)"
   ]
  },
  {
   "cell_type": "code",
   "execution_count": 51,
   "id": "79a0de60",
   "metadata": {},
   "outputs": [
    {
     "name": "stdout",
     "output_type": "stream",
     "text": [
      "164     9398.607658\n",
      "165    13279.505890\n",
      "166    13279.505890\n",
      "167    13649.115245\n",
      "168    13649.115245\n",
      "169    13649.115245\n",
      "170    13649.115245\n",
      "171    13649.115245\n",
      "172    13649.115245\n",
      "173    11431.459113\n",
      "174     9675.814675\n",
      "175    11431.459113\n",
      "176    11431.459113\n",
      "177    11431.459113\n",
      "178    17807.220492\n",
      "179    17807.220492\n",
      "180    17345.208798\n",
      "181    17345.208798\n",
      "182     7735.365559\n",
      "183    10784.642741\n",
      "184     7735.365559\n",
      "185    10784.642741\n",
      "186    10784.642741\n",
      "187     9213.802981\n",
      "188    12170.677823\n",
      "189    11246.654435\n",
      "190    11246.654435\n",
      "191    13094.701212\n",
      "192     9213.802981\n",
      "193    11061.849757\n",
      "194    13464.310567\n",
      "195    13464.310567\n",
      "196    13464.310567\n",
      "197    13464.310567\n",
      "198    17899.622831\n",
      "199    17899.622831\n",
      "200    13464.310567\n",
      "201    17714.818154\n",
      "202    15312.357344\n",
      "203    12725.091857\n",
      "204    13464.310567\n",
      "dtype: float64\n"
     ]
    }
   ],
   "source": [
    "print(predict_test_x)"
   ]
  },
  {
   "cell_type": "code",
   "execution_count": 52,
   "id": "274a69d0",
   "metadata": {},
   "outputs": [
    {
     "data": {
      "text/plain": [
       "<AxesSubplot:xlabel='bhp', ylabel='price'>"
      ]
     },
     "execution_count": 52,
     "metadata": {},
     "output_type": "execute_result"
    },
    {
     "data": {
      "image/png": "[encoded data removed]",
      "text/plain": [
       "<Figure size 720x360 with 2 Axes>"
      ]
     },
     "metadata": {
      "needs_background": "light"
     },
     "output_type": "display_data"
    }
   ],
   "source": [
    "plt.figure(figsize=[10,5])\n",
    "plt.subplot(1,2,1)\n",
    "sns.scatterplot(x=train_x.bhp,y=train_y)\n",
    "sns.scatterplot(x=test_x.bhp,y=test_y)\n",
    "sns.lineplot(x=train_x.bhp,y=predict_train_x)\n",
    "plt.subplot(1,2,2)\n",
    "sns.scatterplot(x=train_x.bhp,y=train_y)\n",
    "sns.scatterplot(x=test_x.bhp,y=test_y)\n",
    "sns.lineplot(x=test_x.bhp,y=predict_test_x)"
   ]
  },
  {
   "cell_type": "markdown",
   "id": "d922ff86",
   "metadata": {},
   "source": [
    "<h1 style = \"color:violet\";> Hypothesis testing </h1>\n"
   ]
  },
  {
   "cell_type": "markdown",
   "id": "61f16324",
   "metadata": {},
   "source": [
    "<h3 style = \"color:orange\";> Price compared with Symboling </h3>"
   ]
  },
  {
   "cell_type": "code",
   "execution_count": 53,
   "id": "28ba4e37",
   "metadata": {},
   "outputs": [
    {
     "data": {
      "text/plain": [
       "array([ 3,  1,  2,  0, -1, -2], dtype=int64)"
      ]
     },
     "execution_count": 53,
     "metadata": {},
     "output_type": "execute_result"
    }
   ],
   "source": [
    "data.symboling.unique()"
   ]
  },
  {
   "cell_type": "code",
   "execution_count": 54,
   "id": "8941275b",
   "metadata": {},
   "outputs": [],
   "source": [
    "s1=data.price[data.symboling==3]\n",
    "s2=data.price[data.symboling==1]\n",
    "s3=data.price[data.symboling==2]\n",
    "s4=data.price[data.symboling==0]\n",
    "s5=data.price[data.symboling==-1]\n",
    "s6=data.price[data.symboling==-2]"
   ]
  },
  {
   "cell_type": "code",
   "execution_count": 55,
   "id": "92cf95af",
   "metadata": {},
   "outputs": [
    {
     "data": {
      "text/plain": [
       "F_onewayResult(statistic=6.966049286659943, pvalue=5.099750825967775e-06)"
      ]
     },
     "execution_count": 55,
     "metadata": {},
     "output_type": "execute_result"
    }
   ],
   "source": [
    "stats.f_oneway(s1,s2,s3,s4,s5,s6)"
   ]
  },
  {
   "cell_type": "markdown",
   "id": "4f955ef4",
   "metadata": {},
   "source": [
    "<h3 style = \"color:green\";> price compared with fueltype </h3>"
   ]
  },
  {
   "cell_type": "code",
   "execution_count": 56,
   "id": "dc14aee6",
   "metadata": {},
   "outputs": [
    {
     "data": {
      "text/plain": [
       "array(['gas', 'diesel'], dtype=object)"
      ]
     },
     "execution_count": 56,
     "metadata": {},
     "output_type": "execute_result"
    }
   ],
   "source": [
    "data.fueltype.unique()"
   ]
  },
  {
   "cell_type": "code",
   "execution_count": 57,
   "id": "dd2b80cc",
   "metadata": {},
   "outputs": [],
   "source": [
    "f1=data.price[data.fueltype==\"gas\"]\n",
    "f2=data.price[data.fueltype==\"diesel\"]"
   ]
  },
  {
   "cell_type": "code",
   "execution_count": 58,
   "id": "be1cf741",
   "metadata": {
    "scrolled": true
   },
   "outputs": [
    {
     "data": {
      "text/plain": [
       "Ttest_indResult(statistic=-1.6122331626981947, pvalue=0.10846478964915504)"
      ]
     },
     "execution_count": 58,
     "metadata": {},
     "output_type": "execute_result"
    }
   ],
   "source": [
    "stats.ttest_ind(f1,f2)"
   ]
  },
  {
   "cell_type": "markdown",
   "id": "e10f6f2a",
   "metadata": {},
   "source": [
    "<h3 style = \"color:orange\";> Price compared with Aspiration</h3>"
   ]
  },
  {
   "cell_type": "code",
   "execution_count": 59,
   "id": "8872d1cf",
   "metadata": {},
   "outputs": [
    {
     "data": {
      "text/plain": [
       "array(['std', 'turbo'], dtype=object)"
      ]
     },
     "execution_count": 59,
     "metadata": {},
     "output_type": "execute_result"
    }
   ],
   "source": [
    "data.aspiration.unique()"
   ]
  },
  {
   "cell_type": "code",
   "execution_count": 60,
   "id": "b8991b2d",
   "metadata": {},
   "outputs": [],
   "source": [
    "a1=data.price[data.aspiration==\"std\"]\n",
    "a2=data.price[data.aspiration==\"turbo\"]\n"
   ]
  },
  {
   "cell_type": "code",
   "execution_count": 61,
   "id": "dfe50512",
   "metadata": {},
   "outputs": [
    {
     "data": {
      "text/plain": [
       "Ttest_indResult(statistic=0.0, pvalue=1.0)"
      ]
     },
     "execution_count": 61,
     "metadata": {},
     "output_type": "execute_result"
    }
   ],
   "source": [
    "stats.ttest_ind(a1,a1)"
   ]
  },
  {
   "cell_type": "markdown",
   "id": "41417a15",
   "metadata": {},
   "source": [
    "<h3 style = \"color:blue\";> Price compared with No.of.doors </h3>"
   ]
  },
  {
   "cell_type": "code",
   "execution_count": 62,
   "id": "f4bdba03",
   "metadata": {},
   "outputs": [
    {
     "data": {
      "text/plain": [
       "2"
      ]
     },
     "execution_count": 62,
     "metadata": {},
     "output_type": "execute_result"
    }
   ],
   "source": [
    "data.numofdoors.nunique()"
   ]
  },
  {
   "cell_type": "code",
   "execution_count": 63,
   "id": "d6b13526",
   "metadata": {
    "scrolled": true
   },
   "outputs": [],
   "source": [
    "n1=data.price[data.numofdoors==\"two\"]\n",
    "n2=data.price[data.numofdoors==\"four\"]"
   ]
  },
  {
   "cell_type": "code",
   "execution_count": 64,
   "id": "630aff79",
   "metadata": {},
   "outputs": [
    {
     "data": {
      "text/plain": [
       "Ttest_indResult(statistic=-0.7176714250640884, pvalue=0.4737931587114491)"
      ]
     },
     "execution_count": 64,
     "metadata": {},
     "output_type": "execute_result"
    }
   ],
   "source": [
    "stats.ttest_ind(n1,n2)"
   ]
  },
  {
   "cell_type": "markdown",
   "id": "ea03f840",
   "metadata": {},
   "source": [
    "<h3 style = \"color:red\";> Price compared with Bodystyle </h3>"
   ]
  },
  {
   "cell_type": "code",
   "execution_count": 65,
   "id": "7e4632cc",
   "metadata": {},
   "outputs": [
    {
     "data": {
      "text/plain": [
       "array(['convertible', 'hatchback', 'sedan', 'wagon', 'hardtop'],\n",
       "      dtype=object)"
      ]
     },
     "execution_count": 65,
     "metadata": {},
     "output_type": "execute_result"
    }
   ],
   "source": [
    "data.bodystyle.unique()"
   ]
  },
  {
   "cell_type": "code",
   "execution_count": 66,
   "id": "ca0f0796",
   "metadata": {},
   "outputs": [],
   "source": [
    "b1=data.price[data.bodystyle==\"convertible\"]\n",
    "b2=data.price[data.bodystyle==\"hatchback\"]\n",
    "b3=data.price[data.bodystyle==\"sedan\"]\n",
    "b4=data.price[data.bodystyle==\"wagon\"]\n",
    "b5=data.price[data.bodystyle==\"hardtop\"]"
   ]
  },
  {
   "cell_type": "code",
   "execution_count": 67,
   "id": "7ea8a692",
   "metadata": {},
   "outputs": [
    {
     "data": {
      "text/plain": [
       "F_onewayResult(statistic=9.280889884985438, pvalue=6.715744383632092e-07)"
      ]
     },
     "execution_count": 67,
     "metadata": {},
     "output_type": "execute_result"
    }
   ],
   "source": [
    "stats.f_oneway(b1,b2,b3,b4,b5)"
   ]
  },
  {
   "cell_type": "markdown",
   "id": "4fbd909a",
   "metadata": {},
   "source": [
    "<h3 style = \"color:green\";> Price compared with drivewheels </h3>"
   ]
  },
  {
   "cell_type": "code",
   "execution_count": 68,
   "id": "83e2110f",
   "metadata": {},
   "outputs": [
    {
     "data": {
      "text/plain": [
       "array(['rwd', 'fwd', '4wd'], dtype=object)"
      ]
     },
     "execution_count": 68,
     "metadata": {},
     "output_type": "execute_result"
    }
   ],
   "source": [
    "data.drivewheels.unique()"
   ]
  },
  {
   "cell_type": "code",
   "execution_count": 69,
   "id": "da5a26ad",
   "metadata": {},
   "outputs": [],
   "source": [
    "d1=data.price[data.drivewheels==\"rwd\"]\n",
    "d2=data.price[data.drivewheels==\"fwd\"]\n",
    "d3=data.price[data.drivewheels==\"4wd\"]"
   ]
  },
  {
   "cell_type": "code",
   "execution_count": 70,
   "id": "ca874328",
   "metadata": {},
   "outputs": [
    {
     "data": {
      "text/plain": [
       "F_onewayResult(statistic=67.73579802411511, pvalue=3.07984274260414e-23)"
      ]
     },
     "execution_count": 70,
     "metadata": {},
     "output_type": "execute_result"
    }
   ],
   "source": [
    "stats.f_oneway(d1,d2,d3)"
   ]
  },
  {
   "cell_type": "markdown",
   "id": "6aaa426c",
   "metadata": {},
   "source": [
    "<h3 style = \"color:blue\";> Price compared with enginelocation </h3>"
   ]
  },
  {
   "cell_type": "code",
   "execution_count": 71,
   "id": "611b9457",
   "metadata": {},
   "outputs": [
    {
     "data": {
      "text/plain": [
       "array(['front', 'rear'], dtype=object)"
      ]
     },
     "execution_count": 71,
     "metadata": {},
     "output_type": "execute_result"
    }
   ],
   "source": [
    "data.enginelocation.unique()"
   ]
  },
  {
   "cell_type": "code",
   "execution_count": 72,
   "id": "84dbebaf",
   "metadata": {},
   "outputs": [],
   "source": [
    "e1=data.price[data.enginelocation==\"front\"]\n",
    "e2=data.price[data.enginelocation==\"rear\"]"
   ]
  },
  {
   "cell_type": "code",
   "execution_count": 73,
   "id": "ea32bbef",
   "metadata": {},
   "outputs": [
    {
     "data": {
      "text/plain": [
       "Ttest_indResult(statistic=-5.005528399121724, pvalue=1.2057381567252149e-06)"
      ]
     },
     "execution_count": 73,
     "metadata": {},
     "output_type": "execute_result"
    }
   ],
   "source": [
    "stats.ttest_ind(e1,e2)"
   ]
  },
  {
   "cell_type": "markdown",
   "id": "8d27c4df",
   "metadata": {},
   "source": [
    "<h3 style = \"color:blue\";> Price compared with Engine type </h3>"
   ]
  },
  {
   "cell_type": "code",
   "execution_count": 74,
   "id": "92d19720",
   "metadata": {},
   "outputs": [
    {
     "data": {
      "text/plain": [
       "array(['dohc', 'ohcv', 'ohc', 'l', 'rotor', 'ohcf', 'dohcv'], dtype=object)"
      ]
     },
     "execution_count": 74,
     "metadata": {},
     "output_type": "execute_result"
    }
   ],
   "source": [
    "data.enginetype.unique()"
   ]
  },
  {
   "cell_type": "code",
   "execution_count": 75,
   "id": "6900b0b9",
   "metadata": {},
   "outputs": [],
   "source": [
    "t1=data.price[data.enginetype==\"dohc\"]\n",
    "t2=data.price[data.enginetype==\"ohcv\"]\n",
    "t3=data.price[data.enginetype==\"ohc\"]\n",
    "t4=data.price[data.enginetype==\"l\"]\n",
    "t5=data.price[data.enginetype==\"rotor\"]\n",
    "t6=data.price[data.enginetype==\"ohcf\"]\n",
    "t7=data.price[data.enginetype==\"dohcv\"]"
   ]
  },
  {
   "cell_type": "code",
   "execution_count": 76,
   "id": "08fe9b2a",
   "metadata": {
    "scrolled": true
   },
   "outputs": [
    {
     "data": {
      "text/plain": [
       "F_onewayResult(statistic=8.41976699929087, pvalue=3.8264558339043966e-08)"
      ]
     },
     "execution_count": 76,
     "metadata": {},
     "output_type": "execute_result"
    }
   ],
   "source": [
    "stats.f_oneway(t1,t2,t3,t4,t5,t6,t7)"
   ]
  },
  {
   "cell_type": "markdown",
   "id": "bd5d6d11",
   "metadata": {},
   "source": [
    "<h3 style = \"color:red\";> Price compared with Num of cylinders </h3>"
   ]
  },
  {
   "cell_type": "code",
   "execution_count": 77,
   "id": "b3ddc1e2",
   "metadata": {},
   "outputs": [
    {
     "data": {
      "text/plain": [
       "array(['four', 'six', 'five', 'three', 'twelve', 'two', 'eight'],\n",
       "      dtype=object)"
      ]
     },
     "execution_count": 77,
     "metadata": {},
     "output_type": "execute_result"
    }
   ],
   "source": [
    "data.numofcylinders.unique()"
   ]
  },
  {
   "cell_type": "code",
   "execution_count": 78,
   "id": "cea9a1a2",
   "metadata": {},
   "outputs": [],
   "source": [
    "c1=data.price[data.numofcylinders==\"four\"]\n",
    "c2=data.price[data.numofcylinders==\"six\"]\n",
    "c3=data.price[data.numofcylinders==\"five\"]\n",
    "c4=data.price[data.numofcylinders==\"three\"]\n",
    "c5=data.price[data.numofcylinders==\"twelve\"]\n",
    "c6=data.price[data.numofcylinders==\"two\"]\n",
    "c7=data.price[data.numofcylinders==\"eight\"]"
   ]
  },
  {
   "cell_type": "code",
   "execution_count": 79,
   "id": "64396d2b",
   "metadata": {},
   "outputs": [
    {
     "data": {
      "text/plain": [
       "F_onewayResult(statistic=43.56071481585832, pvalue=1.0872686269905157e-33)"
      ]
     },
     "execution_count": 79,
     "metadata": {},
     "output_type": "execute_result"
    }
   ],
   "source": [
    "stats.f_oneway(c1,c2,c3,c4,c5,c6,c7)"
   ]
  },
  {
   "cell_type": "markdown",
   "id": "808f7ceb",
   "metadata": {},
   "source": [
    "<h1 style = \"color:green\";>Another comparison</h1>"
   ]
  },
  {
   "cell_type": "markdown",
   "id": "b8209c95",
   "metadata": {},
   "source": [
    "<h3> Here, I'm going to compare engine location with city mpg and highway mpg, because Engine location is discrete data, city mpg and highway mpg are continuous data. So engine location may affect the mileage. </h3>"
   ]
  },
  {
   "cell_type": "markdown",
   "id": "5da713f6",
   "metadata": {},
   "source": [
    "<h3 style = \"color:blue\";> Citympg compared with Engine location </h3>"
   ]
  },
  {
   "cell_type": "code",
   "execution_count": 80,
   "id": "48d86906",
   "metadata": {},
   "outputs": [
    {
     "data": {
      "text/plain": [
       "array(['front', 'rear'], dtype=object)"
      ]
     },
     "execution_count": 80,
     "metadata": {},
     "output_type": "execute_result"
    }
   ],
   "source": [
    "data.enginelocation.unique()"
   ]
  },
  {
   "cell_type": "code",
   "execution_count": 81,
   "id": "d6121d4c",
   "metadata": {},
   "outputs": [],
   "source": [
    "l1=data.citympg[data.enginelocation==\"front\"]\n",
    "l2=data.citympg[data.enginelocation==\"rear\"]"
   ]
  },
  {
   "cell_type": "code",
   "execution_count": 82,
   "id": "62c8c632",
   "metadata": {
    "scrolled": true
   },
   "outputs": [
    {
     "data": {
      "text/plain": [
       "Ttest_indResult(statistic=2.213083357034965, pvalue=0.02800586590479401)"
      ]
     },
     "execution_count": 82,
     "metadata": {},
     "output_type": "execute_result"
    }
   ],
   "source": [
    "stats.ttest_ind(l1,l2)"
   ]
  },
  {
   "cell_type": "markdown",
   "id": "c2594e4b",
   "metadata": {},
   "source": [
    "<h3 style = \"color:red\";> Citympg compared with Engine location </h3>"
   ]
  },
  {
   "cell_type": "markdown",
   "id": "92ae9324",
   "metadata": {},
   "source": [
    "<h3>Here, I'm going to compare the rear engine position and front engine position with city mpg</h3>"
   ]
  },
  {
   "cell_type": "code",
   "execution_count": 83,
   "id": "1afd7f48",
   "metadata": {
    "scrolled": true
   },
   "outputs": [
    {
     "data": {
      "text/plain": [
       "array(['front', 'rear'], dtype=object)"
      ]
     },
     "execution_count": 83,
     "metadata": {},
     "output_type": "execute_result"
    }
   ],
   "source": [
    "data.enginelocation.unique()"
   ]
  },
  {
   "cell_type": "code",
   "execution_count": 84,
   "id": "b0b6f2c6",
   "metadata": {},
   "outputs": [],
   "source": [
    "s1=data.citympg[data.enginelocation==\"front\"]\n",
    "s2=data.citympg[data.enginelocation==\"rear\"]"
   ]
  },
  {
   "cell_type": "code",
   "execution_count": 85,
   "id": "7db5f76b",
   "metadata": {},
   "outputs": [
    {
     "data": {
      "text/plain": [
       "126    17\n",
       "127    17\n",
       "128    17\n",
       "Name: citympg, dtype: int64"
      ]
     },
     "execution_count": 85,
     "metadata": {},
     "output_type": "execute_result"
    }
   ],
   "source": [
    "s1.head()\n",
    "s2.head()"
   ]
  },
  {
   "cell_type": "code",
   "execution_count": 92,
   "id": "3dfb9f65",
   "metadata": {
    "scrolled": true
   },
   "outputs": [
    {
     "data": {
      "text/plain": [
       "25.34158415841584"
      ]
     },
     "execution_count": 92,
     "metadata": {},
     "output_type": "execute_result"
    }
   ],
   "source": [
    "s1.mean()"
   ]
  },
  {
   "cell_type": "code",
   "execution_count": 91,
   "id": "8cc73ac2",
   "metadata": {},
   "outputs": [
    {
     "data": {
      "text/plain": [
       "17.0"
      ]
     },
     "execution_count": 91,
     "metadata": {},
     "output_type": "execute_result"
    }
   ],
   "source": [
    "s2.mean()"
   ]
  },
  {
   "cell_type": "markdown",
   "id": "9f3b5da1",
   "metadata": {},
   "source": [
    "<h3>So we can interpret that the rear position of engine affeect the city mpg </h3>"
   ]
  }
 ],
 "metadata": {
  "kernelspec": {
   "display_name": "Python 3 (ipykernel)",
   "language": "python",
   "name": "python3"
  },
  "language_info": {
   "codemirror_mode": {
    "name": "ipython",
    "version": 3
   },
   "file_extension": ".py",
   "mimetype": "text/x-python",
   "name": "python",
   "nbconvert_exporter": "python",
   "pygments_lexer": "ipython3",
   "version": "3.9.7"
  }
 },
 "nbformat": 4,
 "nbformat_minor": 5
}
